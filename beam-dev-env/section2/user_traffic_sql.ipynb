{
 "cells": [
  {
   "cell_type": "code",
   "execution_count": 1,
   "id": "7190d19a-cdf1-42a3-81ee-0558c6ecdcdd",
   "metadata": {},
   "outputs": [],
   "source": [
    "import json\n",
    "import os\n",
    "import typing\n",
    "\n",
    "import apache_beam as beam\n",
    "import apache_beam.runners.interactive.interactive_beam as ib\n",
    "from apache_beam.runners.interactive import interactive_runner"
   ]
  },
  {
   "cell_type": "code",
   "execution_count": 2,
   "id": "2d2dc942-1857-4ff9-910e-f6b78bffedf8",
   "metadata": {},
   "outputs": [],
   "source": [
    "class EventLog(typing.NamedTuple):\n",
    "    ip: str\n",
    "    id: str\n",
    "    lat: float\n",
    "    lng: float\n",
    "    user_agent: str\n",
    "    age_bracket: str\n",
    "    opted_into_marketing: bool\n",
    "    http_request: str\n",
    "    http_response: int\n",
    "    file_size_bytes: int\n",
    "    event_datetime: str\n",
    "    event_ts: int\n",
    "\n",
    "beam.coders.registry.register_coder(EventLog, beam.coders.RowCoder)\n",
    "\n",
    "def parse_json(element: str):\n",
    "    row = json.loads(element)\n",
    "    # lat/lng sometimes empty string\n",
    "    if not row[\"lat\"] or not row[\"lng\"]:\n",
    "        row = {**row, **{\"lat\": -1, \"lng\": -1}}\n",
    "    return EventLog(**row)\n",
    "\n",
    "PARENT_DIR = os.path.dirname(os.getcwd())"
   ]
  },
  {
   "cell_type": "code",
   "execution_count": 3,
   "id": "fe422e26-df06-4896-b1a0-d0992d16717a",
   "metadata": {},
   "outputs": [
    {
     "data": {
      "application/javascript": [
       "\n",
       "        if (typeof window.interactive_beam_jquery == 'undefined') {\n",
       "          var jqueryScript = document.createElement('script');\n",
       "          jqueryScript.src = 'https://code.jquery.com/jquery-3.4.1.slim.min.js';\n",
       "          jqueryScript.type = 'text/javascript';\n",
       "          jqueryScript.onload = function() {\n",
       "            var datatableScript = document.createElement('script');\n",
       "            datatableScript.src = 'https://cdn.datatables.net/1.10.20/js/jquery.dataTables.min.js';\n",
       "            datatableScript.type = 'text/javascript';\n",
       "            datatableScript.onload = function() {\n",
       "              window.interactive_beam_jquery = jQuery.noConflict(true);\n",
       "              window.interactive_beam_jquery(document).ready(function($){\n",
       "                \n",
       "              });\n",
       "            }\n",
       "            document.head.appendChild(datatableScript);\n",
       "          };\n",
       "          document.head.appendChild(jqueryScript);\n",
       "        } else {\n",
       "          window.interactive_beam_jquery(document).ready(function($){\n",
       "            \n",
       "          });\n",
       "        }"
      ]
     },
     "metadata": {},
     "output_type": "display_data"
    }
   ],
   "source": [
    "p = beam.Pipeline(interactive_runner.InteractiveRunner())\n",
    "events = (\n",
    "    p\n",
    "    | \"Read from files\"\n",
    "    >> beam.io.ReadFromText(\n",
    "        file_pattern=os.path.join(os.path.join(PARENT_DIR, \"inputs\", \"*.out\"))\n",
    "    )\n",
    "    | \"Parse elements\" >> beam.Map(parse_json).with_output_types(EventLog)\n",
    ")"
   ]
  },
  {
   "cell_type": "code",
   "execution_count": 4,
   "id": "e283792c-72e7-4403-bc5e-52070582f4be",
   "metadata": {},
   "outputs": [],
   "source": [
    "%load_ext apache_beam.runners.interactive.sql.beam_sql_magics"
   ]
  },
  {
   "cell_type": "code",
   "execution_count": 5,
   "id": "0daf6a12-a527-42b7-8508-9e8debc69de2",
   "metadata": {},
   "outputs": [
    {
     "data": {
      "text/html": [
       "\n",
       "            <link rel=\"stylesheet\" href=\"https://stackpath.bootstrapcdn.com/bootstrap/4.4.1/css/bootstrap.min.css\" integrity=\"sha384-Vkoo8x4CGsO3+Hhxv8T/Q5PaXtkKtu6ug5TOeNV6gBiFeWPGFN9MuhOf23Q9Ifjh\" crossorigin=\"anonymous\">\n",
       "            <div id=\"progress_indicator_bb162510cd1d63f4a6573d24ec53a4ca\">\n",
       "              <div class=\"spinner-border text-info\" role=\"status\"></div>\n",
       "              <span class=\"text-info\">Processing... collect_data_for_local_run</span>\n",
       "            </div>\n",
       "            "
      ],
      "text/plain": [
       "<IPython.core.display.HTML object>"
      ]
     },
     "metadata": {},
     "output_type": "display_data"
    },
    {
     "data": {
      "text/html": [
       "\n",
       "            <link rel=\"stylesheet\" href=\"https://stackpath.bootstrapcdn.com/bootstrap/4.4.1/css/bootstrap.min.css\" integrity=\"sha384-Vkoo8x4CGsO3+Hhxv8T/Q5PaXtkKtu6ug5TOeNV6gBiFeWPGFN9MuhOf23Q9Ifjh\" crossorigin=\"anonymous\">\n",
       "            <div id=\"progress_indicator_e50fcf89d5737832229f5d7bb8e2ce25\">\n",
       "              <div class=\"spinner-border text-info\" role=\"status\"></div>\n",
       "              <span class=\"text-info\">Processing... collect</span>\n",
       "            </div>\n",
       "            "
      ],
      "text/plain": [
       "<IPython.core.display.HTML object>"
      ]
     },
     "metadata": {},
     "output_type": "display_data"
    },
    {
     "data": {
      "application/javascript": [
       "\n",
       "        if (typeof window.interactive_beam_jquery == 'undefined') {\n",
       "          var jqueryScript = document.createElement('script');\n",
       "          jqueryScript.src = 'https://code.jquery.com/jquery-3.4.1.slim.min.js';\n",
       "          jqueryScript.type = 'text/javascript';\n",
       "          jqueryScript.onload = function() {\n",
       "            var datatableScript = document.createElement('script');\n",
       "            datatableScript.src = 'https://cdn.datatables.net/1.10.20/js/jquery.dataTables.min.js';\n",
       "            datatableScript.type = 'text/javascript';\n",
       "            datatableScript.onload = function() {\n",
       "              window.interactive_beam_jquery = jQuery.noConflict(true);\n",
       "              window.interactive_beam_jquery(document).ready(function($){\n",
       "                \n",
       "            $(\"#progress_indicator_e50fcf89d5737832229f5d7bb8e2ce25\").remove();\n",
       "              });\n",
       "            }\n",
       "            document.head.appendChild(datatableScript);\n",
       "          };\n",
       "          document.head.appendChild(jqueryScript);\n",
       "        } else {\n",
       "          window.interactive_beam_jquery(document).ready(function($){\n",
       "            \n",
       "            $(\"#progress_indicator_e50fcf89d5737832229f5d7bb8e2ce25\").remove();\n",
       "          });\n",
       "        }"
      ]
     },
     "metadata": {},
     "output_type": "display_data"
    },
    {
     "data": {
      "application/javascript": [
       "\n",
       "        if (typeof window.interactive_beam_jquery == 'undefined') {\n",
       "          var jqueryScript = document.createElement('script');\n",
       "          jqueryScript.src = 'https://code.jquery.com/jquery-3.4.1.slim.min.js';\n",
       "          jqueryScript.type = 'text/javascript';\n",
       "          jqueryScript.onload = function() {\n",
       "            var datatableScript = document.createElement('script');\n",
       "            datatableScript.src = 'https://cdn.datatables.net/1.10.20/js/jquery.dataTables.min.js';\n",
       "            datatableScript.type = 'text/javascript';\n",
       "            datatableScript.onload = function() {\n",
       "              window.interactive_beam_jquery = jQuery.noConflict(true);\n",
       "              window.interactive_beam_jquery(document).ready(function($){\n",
       "                \n",
       "            $(\"#progress_indicator_bb162510cd1d63f4a6573d24ec53a4ca\").remove();\n",
       "              });\n",
       "            }\n",
       "            document.head.appendChild(datatableScript);\n",
       "          };\n",
       "          document.head.appendChild(jqueryScript);\n",
       "        } else {\n",
       "          window.interactive_beam_jquery(document).ready(function($){\n",
       "            \n",
       "            $(\"#progress_indicator_bb162510cd1d63f4a6573d24ec53a4ca\").remove();\n",
       "          });\n",
       "        }"
      ]
     },
     "metadata": {},
     "output_type": "display_data"
    },
    {
     "data": {
      "text/html": [
       "\n",
       "            <link rel=\"stylesheet\" href=\"https://stackpath.bootstrapcdn.com/bootstrap/4.4.1/css/bootstrap.min.css\" integrity=\"sha384-Vkoo8x4CGsO3+Hhxv8T/Q5PaXtkKtu6ug5TOeNV6gBiFeWPGFN9MuhOf23Q9Ifjh\" crossorigin=\"anonymous\">\n",
       "            <div id=\"progress_indicator_e50fcf89d5737832229f5d7bb8e2ce25\">\n",
       "              <div class=\"spinner-border text-info\" role=\"status\"></div>\n",
       "              <span class=\"text-info\">Processing... apply_sql</span>\n",
       "            </div>\n",
       "            "
      ],
      "text/plain": [
       "<IPython.core.display.HTML object>"
      ]
     },
     "metadata": {},
     "output_type": "display_data"
    },
    {
     "data": {
      "text/html": [
       "\n",
       "  <style>\n",
       "    div.alert {\n",
       "      white-space: pre-line;\n",
       "    }\n",
       "  </style>\n"
      ],
      "text/plain": [
       "<IPython.core.display.HTML object>"
      ]
     },
     "metadata": {},
     "output_type": "display_data"
    },
    {
     "data": {
      "text/html": [
       "\n",
       "            <link rel=\"stylesheet\" href=\"https://stackpath.bootstrapcdn.com/bootstrap/4.4.1/css/bootstrap.min.css\" integrity=\"sha384-Vkoo8x4CGsO3+Hhxv8T/Q5PaXtkKtu6ug5TOeNV6gBiFeWPGFN9MuhOf23Q9Ifjh\" crossorigin=\"anonymous\">\n",
       "            <div class=\"alert alert-info\">The output PCollection variable is output with element_type BeamSchema_124b57a3_8cc1_41f2_9cda_dbe62110eddf(id: &lt;class &#x27;str&#x27;&gt;, page_views: &lt;class &#x27;numpy.int64&#x27;&gt;, total_bytes: &lt;class &#x27;numpy.int64&#x27;&gt;, max_bytes: &lt;class &#x27;numpy.int64&#x27;&gt;, min_bytes: &lt;class &#x27;numpy.int64&#x27;&gt;)</div>"
      ],
      "text/plain": [
       "<IPython.core.display.HTML object>"
      ]
     },
     "metadata": {},
     "output_type": "display_data"
    },
    {
     "data": {
      "application/javascript": [
       "\n",
       "        if (typeof window.interactive_beam_jquery == 'undefined') {\n",
       "          var jqueryScript = document.createElement('script');\n",
       "          jqueryScript.src = 'https://code.jquery.com/jquery-3.4.1.slim.min.js';\n",
       "          jqueryScript.type = 'text/javascript';\n",
       "          jqueryScript.onload = function() {\n",
       "            var datatableScript = document.createElement('script');\n",
       "            datatableScript.src = 'https://cdn.datatables.net/1.10.20/js/jquery.dataTables.min.js';\n",
       "            datatableScript.type = 'text/javascript';\n",
       "            datatableScript.onload = function() {\n",
       "              window.interactive_beam_jquery = jQuery.noConflict(true);\n",
       "              window.interactive_beam_jquery(document).ready(function($){\n",
       "                \n",
       "            $(\"#progress_indicator_e50fcf89d5737832229f5d7bb8e2ce25\").remove();\n",
       "              });\n",
       "            }\n",
       "            document.head.appendChild(datatableScript);\n",
       "          };\n",
       "          document.head.appendChild(jqueryScript);\n",
       "        } else {\n",
       "          window.interactive_beam_jquery(document).ready(function($){\n",
       "            \n",
       "            $(\"#progress_indicator_e50fcf89d5737832229f5d7bb8e2ce25\").remove();\n",
       "          });\n",
       "        }"
      ]
     },
     "metadata": {},
     "output_type": "display_data"
    },
    {
     "data": {
      "text/html": [
       "\n",
       "            <link rel=\"stylesheet\" href=\"https://stackpath.bootstrapcdn.com/bootstrap/4.4.1/css/bootstrap.min.css\" integrity=\"sha384-Vkoo8x4CGsO3+Hhxv8T/Q5PaXtkKtu6ug5TOeNV6gBiFeWPGFN9MuhOf23Q9Ifjh\" crossorigin=\"anonymous\">\n",
       "            <div id=\"progress_indicator_e50fcf89d5737832229f5d7bb8e2ce25\">\n",
       "              <div class=\"spinner-border text-info\" role=\"status\"></div>\n",
       "              <span class=\"text-info\">Processing... cache_output</span>\n",
       "            </div>\n",
       "            "
      ],
      "text/plain": [
       "<IPython.core.display.HTML object>"
      ]
     },
     "metadata": {},
     "output_type": "display_data"
    },
    {
     "name": "stdout",
     "output_type": "stream",
     "text": [
      "2.53.0: Pulling from apache/beam_java11_sdk\n",
      "Digest: sha256:4f90eceef156cdab47136c978b873c6dc84bb9812a65fbbc515e9cf0071ffd5e\n",
      "Status: Image is up to date for apache/beam_java11_sdk:2.53.0\n",
      "docker.io/apache/beam_java11_sdk:2.53.0\n",
      "f739d2be69e29ee4f394fd900c859e264710030e00aeb1f4bf3065dacbbb003a\n"
     ]
    },
    {
     "data": {
      "text/html": [
       "\n",
       "            <style>\n",
       "            .p-Widget.jp-OutputPrompt.jp-OutputArea-prompt:empty {\n",
       "              padding: 0;\n",
       "              border: 0;\n",
       "            }\n",
       "            .p-Widget.jp-RenderedJavaScript.jp-mod-trusted.jp-OutputArea-output:empty {\n",
       "              padding: 0;\n",
       "              border: 0;\n",
       "            }\n",
       "            </style>\n",
       "            <link rel=\"stylesheet\" href=\"https://cdn.datatables.net/1.10.20/css/jquery.dataTables.min.css\">\n",
       "            <table id=\"table_df_58a52d1fef728c6f1066ae6d7deea8cf\" class=\"display\" style=\"display:block\"></table>\n",
       "            <script>\n",
       "              \n",
       "        if (typeof window.interactive_beam_jquery == 'undefined') {\n",
       "          var jqueryScript = document.createElement('script');\n",
       "          jqueryScript.src = 'https://code.jquery.com/jquery-3.4.1.slim.min.js';\n",
       "          jqueryScript.type = 'text/javascript';\n",
       "          jqueryScript.onload = function() {\n",
       "            var datatableScript = document.createElement('script');\n",
       "            datatableScript.src = 'https://cdn.datatables.net/1.10.20/js/jquery.dataTables.min.js';\n",
       "            datatableScript.type = 'text/javascript';\n",
       "            datatableScript.onload = function() {\n",
       "              window.interactive_beam_jquery = jQuery.noConflict(true);\n",
       "              window.interactive_beam_jquery(document).ready(function($){\n",
       "                \n",
       "            var dt;\n",
       "            if ($.fn.dataTable.isDataTable(\"#table_df_58a52d1fef728c6f1066ae6d7deea8cf\")) {\n",
       "              dt = $(\"#table_df_58a52d1fef728c6f1066ae6d7deea8cf\").dataTable();\n",
       "            } else if ($(\"#table_df_58a52d1fef728c6f1066ae6d7deea8cf_wrapper\").length == 0) {\n",
       "              dt = $(\"#table_df_58a52d1fef728c6f1066ae6d7deea8cf\").dataTable({\n",
       "                \n",
       "            bAutoWidth: false,\n",
       "            columns: [{'title': ''}, {'title': 'id'}, {'title': 'page_views'}, {'title': 'total_bytes'}, {'title': 'max_bytes'}, {'title': 'min_bytes'}],\n",
       "            destroy: true,\n",
       "            responsive: true,\n",
       "            columnDefs: [\n",
       "              {\n",
       "                targets: \"_all\",\n",
       "                className: \"dt-left\"\n",
       "              },\n",
       "              {\n",
       "                \"targets\": 0,\n",
       "                \"width\": \"10px\",\n",
       "                \"title\": \"\"\n",
       "              }\n",
       "            ]\n",
       "              });\n",
       "            } else {\n",
       "              return;\n",
       "            }\n",
       "            dt.api()\n",
       "              .clear()\n",
       "              .rows.add([{1: '-297761604717604766', 2: '519', 3: '157246', 4: '499', 5: '103', 0: 0}, {1: '3817299155409964875', 2: '515', 3: '155516', 4: '498', 5: '100', 0: 1}, {1: '-8832654768096800604', 2: '489', 3: '145166', 4: '499', 5: '100', 0: 2}, {1: '4086706052291208999', 2: '503', 3: '154038', 4: '499', 5: '100', 0: 3}, {1: '3809491485105813594', 2: '518', 3: '155992', 4: '499', 5: '100', 0: 4}, {1: '323358690592146285', 2: '503', 3: '150204', 4: '497', 5: '100', 0: 5}, {1: '1097462159655745840', 2: '483', 3: '145655', 4: '499', 5: '101', 0: 6}, {1: '-7508437511513814045', 2: '492', 3: '146561', 4: '499', 5: '100', 0: 7}, {1: '7514213899672341122', 2: '515', 3: '154753', 4: '498', 5: '100', 0: 8}, {1: '8764514706569354597', 2: '498', 3: '152005', 4: '499', 5: '101', 0: 9}, {1: '5107076440238203196', 2: '520', 3: '155475', 4: '499', 5: '100', 0: 10}, {1: '134630243715938340', 2: '506', 3: '153509', 4: '498', 5: '101', 0: 11}, {1: '-6246779037351548961', 2: '432', 3: '127013', 4: '499', 5: '101', 0: 12}, {1: '-7450326752843155888', 2: '466', 3: '139811', 4: '498', 5: '100', 0: 13}, {1: '4927182384805166657', 2: '501', 3: '151023', 4: '498', 5: '100', 0: 14}, {1: '-5889211929143180249', 2: '491', 3: '146755', 4: '499', 5: '100', 0: 15}, {1: '8063196327933870504', 2: '526', 3: '159395', 4: '499', 5: '101', 0: 16}, {1: '3385356383147784679', 2: '471', 3: '142846', 4: '499', 5: '103', 0: 17}, {1: '4396740364429657096', 2: '534', 3: '159351', 4: '499', 5: '101', 0: 18}, {1: '-4225319382884577471', 2: '518', 3: '158242', 4: '499', 5: '101', 0: 19}])\n",
       "              .draw('full-hold');\n",
       "              });\n",
       "            }\n",
       "            document.head.appendChild(datatableScript);\n",
       "          };\n",
       "          document.head.appendChild(jqueryScript);\n",
       "        } else {\n",
       "          window.interactive_beam_jquery(document).ready(function($){\n",
       "            \n",
       "            var dt;\n",
       "            if ($.fn.dataTable.isDataTable(\"#table_df_58a52d1fef728c6f1066ae6d7deea8cf\")) {\n",
       "              dt = $(\"#table_df_58a52d1fef728c6f1066ae6d7deea8cf\").dataTable();\n",
       "            } else if ($(\"#table_df_58a52d1fef728c6f1066ae6d7deea8cf_wrapper\").length == 0) {\n",
       "              dt = $(\"#table_df_58a52d1fef728c6f1066ae6d7deea8cf\").dataTable({\n",
       "                \n",
       "            bAutoWidth: false,\n",
       "            columns: [{'title': ''}, {'title': 'id'}, {'title': 'page_views'}, {'title': 'total_bytes'}, {'title': 'max_bytes'}, {'title': 'min_bytes'}],\n",
       "            destroy: true,\n",
       "            responsive: true,\n",
       "            columnDefs: [\n",
       "              {\n",
       "                targets: \"_all\",\n",
       "                className: \"dt-left\"\n",
       "              },\n",
       "              {\n",
       "                \"targets\": 0,\n",
       "                \"width\": \"10px\",\n",
       "                \"title\": \"\"\n",
       "              }\n",
       "            ]\n",
       "              });\n",
       "            } else {\n",
       "              return;\n",
       "            }\n",
       "            dt.api()\n",
       "              .clear()\n",
       "              .rows.add([{1: '-297761604717604766', 2: '519', 3: '157246', 4: '499', 5: '103', 0: 0}, {1: '3817299155409964875', 2: '515', 3: '155516', 4: '498', 5: '100', 0: 1}, {1: '-8832654768096800604', 2: '489', 3: '145166', 4: '499', 5: '100', 0: 2}, {1: '4086706052291208999', 2: '503', 3: '154038', 4: '499', 5: '100', 0: 3}, {1: '3809491485105813594', 2: '518', 3: '155992', 4: '499', 5: '100', 0: 4}, {1: '323358690592146285', 2: '503', 3: '150204', 4: '497', 5: '100', 0: 5}, {1: '1097462159655745840', 2: '483', 3: '145655', 4: '499', 5: '101', 0: 6}, {1: '-7508437511513814045', 2: '492', 3: '146561', 4: '499', 5: '100', 0: 7}, {1: '7514213899672341122', 2: '515', 3: '154753', 4: '498', 5: '100', 0: 8}, {1: '8764514706569354597', 2: '498', 3: '152005', 4: '499', 5: '101', 0: 9}, {1: '5107076440238203196', 2: '520', 3: '155475', 4: '499', 5: '100', 0: 10}, {1: '134630243715938340', 2: '506', 3: '153509', 4: '498', 5: '101', 0: 11}, {1: '-6246779037351548961', 2: '432', 3: '127013', 4: '499', 5: '101', 0: 12}, {1: '-7450326752843155888', 2: '466', 3: '139811', 4: '498', 5: '100', 0: 13}, {1: '4927182384805166657', 2: '501', 3: '151023', 4: '498', 5: '100', 0: 14}, {1: '-5889211929143180249', 2: '491', 3: '146755', 4: '499', 5: '100', 0: 15}, {1: '8063196327933870504', 2: '526', 3: '159395', 4: '499', 5: '101', 0: 16}, {1: '3385356383147784679', 2: '471', 3: '142846', 4: '499', 5: '103', 0: 17}, {1: '4396740364429657096', 2: '534', 3: '159351', 4: '499', 5: '101', 0: 18}, {1: '-4225319382884577471', 2: '518', 3: '158242', 4: '499', 5: '101', 0: 19}])\n",
       "              .draw('full-hold');\n",
       "          });\n",
       "        }\n",
       "            </script>"
      ],
      "text/plain": [
       "<IPython.core.display.HTML object>"
      ]
     },
     "metadata": {},
     "output_type": "display_data"
    },
    {
     "data": {
      "application/javascript": [
       "\n",
       "        if (typeof window.interactive_beam_jquery == 'undefined') {\n",
       "          var jqueryScript = document.createElement('script');\n",
       "          jqueryScript.src = 'https://code.jquery.com/jquery-3.4.1.slim.min.js';\n",
       "          jqueryScript.type = 'text/javascript';\n",
       "          jqueryScript.onload = function() {\n",
       "            var datatableScript = document.createElement('script');\n",
       "            datatableScript.src = 'https://cdn.datatables.net/1.10.20/js/jquery.dataTables.min.js';\n",
       "            datatableScript.type = 'text/javascript';\n",
       "            datatableScript.onload = function() {\n",
       "              window.interactive_beam_jquery = jQuery.noConflict(true);\n",
       "              window.interactive_beam_jquery(document).ready(function($){\n",
       "                \n",
       "            $(\"#progress_indicator_e50fcf89d5737832229f5d7bb8e2ce25\").remove();\n",
       "              });\n",
       "            }\n",
       "            document.head.appendChild(datatableScript);\n",
       "          };\n",
       "          document.head.appendChild(jqueryScript);\n",
       "        } else {\n",
       "          window.interactive_beam_jquery(document).ready(function($){\n",
       "            \n",
       "            $(\"#progress_indicator_e50fcf89d5737832229f5d7bb8e2ce25\").remove();\n",
       "          });\n",
       "        }"
      ]
     },
     "metadata": {},
     "output_type": "display_data"
    },
    {
     "data": {
      "text/plain": [
       "<PCollection[SqlTransform(beam:external:java:sql:v1).output] at 0x7f12a19fe1d0>"
      ]
     },
     "execution_count": 5,
     "metadata": {},
     "output_type": "execute_result"
    }
   ],
   "source": [
    "%%beam_sql -o output\n",
    "SELECT \n",
    "    id, COUNT(*) AS page_views, SUM(file_size_bytes) AS total_bytes, \n",
    "    MAX(file_size_bytes) AS max_bytes, MIN(file_size_bytes) AS min_bytes \n",
    "FROM events GROUP BY id"
   ]
  }
 ],
 "metadata": {
  "kernelspec": {
   "display_name": "Python 3 (ipykernel)",
   "language": "python",
   "name": "python3"
  },
  "language_info": {
   "codemirror_mode": {
    "name": "ipython",
    "version": 3
   },
   "file_extension": ".py",
   "mimetype": "text/x-python",
   "name": "python",
   "nbconvert_exporter": "python",
   "pygments_lexer": "ipython3",
   "version": "3.10.13"
  }
 },
 "nbformat": 4,
 "nbformat_minor": 5
}
